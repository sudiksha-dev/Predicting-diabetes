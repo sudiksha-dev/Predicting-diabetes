{
 "cells": [
  {
   "cell_type": "code",
   "execution_count": 401,
   "id": "edfc17aa",
   "metadata": {},
   "outputs": [],
   "source": [
    "import numpy as np\n",
    "import pandas as pd\n",
    "import matplotlib.pyplot as plt"
   ]
  },
  {
   "cell_type": "code",
   "execution_count": 402,
   "id": "3bb0bc26",
   "metadata": {},
   "outputs": [
    {
     "name": "stdout",
     "output_type": "stream",
     "text": [
      " Volume in drive C is Windows\n",
      " Volume Serial Number is AC6A-A0D2\n",
      "\n",
      " Directory of C:\\Users\\sudik\\Jupyter Python Projects\\Machine Learning\\Predicting Diabetes\n",
      "\n",
      "2023-01-04  10:55 PM    <DIR>          .\n",
      "2023-01-04  10:19 PM    <DIR>          ..\n",
      "2023-01-04  10:21 PM    <DIR>          .ipynb_checkpoints\n",
      "2023-01-04  10:15 PM            23,875 diabetes.csv\n",
      "2023-01-04  10:55 PM            53,285 Predicting Diabetes Using Neural Networks.ipynb\n",
      "               2 File(s)         77,160 bytes\n",
      "               3 Dir(s)  789,322,260,480 bytes free\n"
     ]
    }
   ],
   "source": [
    "ls"
   ]
  },
  {
   "cell_type": "code",
   "execution_count": 403,
   "id": "0161e440",
   "metadata": {},
   "outputs": [],
   "source": [
    "positive_diabetes = pd.read_csv('diabetes.csv')"
   ]
  },
  {
   "cell_type": "code",
   "execution_count": 404,
   "id": "8cff54d2",
   "metadata": {},
   "outputs": [
    {
     "data": {
      "text/html": [
       "<div>\n",
       "<style scoped>\n",
       "    .dataframe tbody tr th:only-of-type {\n",
       "        vertical-align: middle;\n",
       "    }\n",
       "\n",
       "    .dataframe tbody tr th {\n",
       "        vertical-align: top;\n",
       "    }\n",
       "\n",
       "    .dataframe thead th {\n",
       "        text-align: right;\n",
       "    }\n",
       "</style>\n",
       "<table border=\"1\" class=\"dataframe\">\n",
       "  <thead>\n",
       "    <tr style=\"text-align: right;\">\n",
       "      <th></th>\n",
       "      <th>Pregnancies</th>\n",
       "      <th>Glucose</th>\n",
       "      <th>BloodPressure</th>\n",
       "      <th>SkinThickness</th>\n",
       "      <th>Insulin</th>\n",
       "      <th>BMI</th>\n",
       "      <th>DiabetesPedigreeFunction</th>\n",
       "      <th>Age</th>\n",
       "      <th>Outcome</th>\n",
       "    </tr>\n",
       "  </thead>\n",
       "  <tbody>\n",
       "    <tr>\n",
       "      <th>0</th>\n",
       "      <td>6</td>\n",
       "      <td>148</td>\n",
       "      <td>72</td>\n",
       "      <td>35</td>\n",
       "      <td>0</td>\n",
       "      <td>33.6</td>\n",
       "      <td>0.627</td>\n",
       "      <td>50</td>\n",
       "      <td>1</td>\n",
       "    </tr>\n",
       "    <tr>\n",
       "      <th>1</th>\n",
       "      <td>1</td>\n",
       "      <td>85</td>\n",
       "      <td>66</td>\n",
       "      <td>29</td>\n",
       "      <td>0</td>\n",
       "      <td>26.6</td>\n",
       "      <td>0.351</td>\n",
       "      <td>31</td>\n",
       "      <td>0</td>\n",
       "    </tr>\n",
       "    <tr>\n",
       "      <th>2</th>\n",
       "      <td>8</td>\n",
       "      <td>183</td>\n",
       "      <td>64</td>\n",
       "      <td>0</td>\n",
       "      <td>0</td>\n",
       "      <td>23.3</td>\n",
       "      <td>0.672</td>\n",
       "      <td>32</td>\n",
       "      <td>1</td>\n",
       "    </tr>\n",
       "    <tr>\n",
       "      <th>3</th>\n",
       "      <td>1</td>\n",
       "      <td>89</td>\n",
       "      <td>66</td>\n",
       "      <td>23</td>\n",
       "      <td>94</td>\n",
       "      <td>28.1</td>\n",
       "      <td>0.167</td>\n",
       "      <td>21</td>\n",
       "      <td>0</td>\n",
       "    </tr>\n",
       "    <tr>\n",
       "      <th>4</th>\n",
       "      <td>0</td>\n",
       "      <td>137</td>\n",
       "      <td>40</td>\n",
       "      <td>35</td>\n",
       "      <td>168</td>\n",
       "      <td>43.1</td>\n",
       "      <td>2.288</td>\n",
       "      <td>33</td>\n",
       "      <td>1</td>\n",
       "    </tr>\n",
       "  </tbody>\n",
       "</table>\n",
       "</div>"
      ],
      "text/plain": [
       "   Pregnancies  Glucose  BloodPressure  SkinThickness  Insulin   BMI  \\\n",
       "0            6      148             72             35        0  33.6   \n",
       "1            1       85             66             29        0  26.6   \n",
       "2            8      183             64              0        0  23.3   \n",
       "3            1       89             66             23       94  28.1   \n",
       "4            0      137             40             35      168  43.1   \n",
       "\n",
       "   DiabetesPedigreeFunction  Age  Outcome  \n",
       "0                     0.627   50        1  \n",
       "1                     0.351   31        0  \n",
       "2                     0.672   32        1  \n",
       "3                     0.167   21        0  \n",
       "4                     2.288   33        1  "
      ]
     },
     "execution_count": 404,
     "metadata": {},
     "output_type": "execute_result"
    }
   ],
   "source": [
    "positive_diabetes.head()"
   ]
  },
  {
   "cell_type": "code",
   "execution_count": 405,
   "id": "6ee7b72f",
   "metadata": {},
   "outputs": [
    {
     "data": {
      "text/plain": [
       "array([ 6,  1,  8,  0,  5,  3, 10,  2,  4,  7,  9, 11, 13, 15, 17, 12, 14],\n",
       "      dtype=int64)"
      ]
     },
     "execution_count": 405,
     "metadata": {},
     "output_type": "execute_result"
    }
   ],
   "source": [
    "positive_diabetes.Pregnancies.unique()"
   ]
  },
  {
   "cell_type": "code",
   "execution_count": 406,
   "id": "82c5f114",
   "metadata": {
    "scrolled": true
   },
   "outputs": [
    {
     "data": {
      "text/plain": [
       "Index(['Pregnancies', 'Glucose', 'BloodPressure', 'SkinThickness', 'Insulin',\n",
       "       'BMI', 'DiabetesPedigreeFunction', 'Age', 'Outcome'],\n",
       "      dtype='object')"
      ]
     },
     "execution_count": 406,
     "metadata": {},
     "output_type": "execute_result"
    }
   ],
   "source": [
    "positive_diabetes.columns"
   ]
  },
  {
   "cell_type": "code",
   "execution_count": 407,
   "id": "24b24863",
   "metadata": {},
   "outputs": [],
   "source": [
    "prediction_var = ['Pregnancies', 'Glucose', 'BloodPressure', 'SkinThickness', 'Insulin',\n",
    "                  'BMI', 'DiabetesPedigreeFunction', 'Age']"
   ]
  },
  {
   "cell_type": "code",
   "execution_count": 408,
   "id": "f7d4039d",
   "metadata": {},
   "outputs": [],
   "source": [
    "from sklearn.model_selection import train_test_split\n",
    " \n",
    "train, test = train_test_split(positive_diabetes, test_size = 0.20)"
   ]
  },
  {
   "cell_type": "code",
   "execution_count": 409,
   "id": "4c49967b",
   "metadata": {},
   "outputs": [],
   "source": [
    "train_x = train[prediction_var]\n",
    "train_y = train['Outcome']\n",
    "\n",
    "test_x = test[prediction_var]\n",
    "test_y = test['Outcome']"
   ]
  },
  {
   "cell_type": "code",
   "execution_count": 410,
   "id": "d1d9119d",
   "metadata": {},
   "outputs": [
    {
     "data": {
      "text/plain": [
       "672    0\n",
       "689    1\n",
       "394    1\n",
       "728    0\n",
       "733    0\n",
       "      ..\n",
       "335    0\n",
       "595    1\n",
       "157    0\n",
       "511    0\n",
       "47     0\n",
       "Name: Outcome, Length: 614, dtype: int64"
      ]
     },
     "execution_count": 410,
     "metadata": {},
     "output_type": "execute_result"
    }
   ],
   "source": [
    "train_y"
   ]
  },
  {
   "cell_type": "code",
   "execution_count": 411,
   "id": "2fd5e6c4",
   "metadata": {},
   "outputs": [],
   "source": [
    "from sklearn.neural_network import MLPClassifier\n",
    "\n",
    "model = MLPClassifier(hidden_layer_sizes = (5,3))"
   ]
  },
  {
   "cell_type": "code",
   "execution_count": null,
   "id": "6b62fa49",
   "metadata": {
    "scrolled": false
   },
   "outputs": [],
   "source": [
    "model.fit(train_x, train_y)"
   ]
  },
  {
   "cell_type": "code",
   "execution_count": 413,
   "id": "23dd3c75",
   "metadata": {},
   "outputs": [],
   "source": [
    "prediction = model.predict_proba(test_x)\n",
    "proba_predict = prediction[:,1]"
   ]
  },
  {
   "cell_type": "code",
   "execution_count": 414,
   "id": "88496395",
   "metadata": {},
   "outputs": [
    {
     "data": {
      "text/plain": [
       "array([[0.90244156, 0.09755844],\n",
       "       [0.76489343, 0.23510657],\n",
       "       [0.59361426, 0.40638574],\n",
       "       [0.81892751, 0.18107249],\n",
       "       [0.83855275, 0.16144725],\n",
       "       [0.8349299 , 0.1650701 ],\n",
       "       [0.26257432, 0.73742568],\n",
       "       [0.35501051, 0.64498949],\n",
       "       [0.94528146, 0.05471854],\n",
       "       [0.70928607, 0.29071393],\n",
       "       [0.90088122, 0.09911878],\n",
       "       [0.70339789, 0.29660211],\n",
       "       [0.57882622, 0.42117378],\n",
       "       [0.69856981, 0.30143019],\n",
       "       [0.58146542, 0.41853458],\n",
       "       [0.63622473, 0.36377527],\n",
       "       [0.73725119, 0.26274881],\n",
       "       [0.61759016, 0.38240984],\n",
       "       [0.53829386, 0.46170614],\n",
       "       [0.74615738, 0.25384262],\n",
       "       [0.72759901, 0.27240099],\n",
       "       [0.64075456, 0.35924544],\n",
       "       [0.72105637, 0.27894363],\n",
       "       [0.5941408 , 0.4058592 ],\n",
       "       [0.62387407, 0.37612593],\n",
       "       [0.69039551, 0.30960449],\n",
       "       [0.67904576, 0.32095424],\n",
       "       [0.629211  , 0.370789  ],\n",
       "       [0.35482657, 0.64517343],\n",
       "       [0.89586199, 0.10413801],\n",
       "       [0.91112312, 0.08887688],\n",
       "       [0.68474021, 0.31525979],\n",
       "       [0.73435405, 0.26564595],\n",
       "       [0.45243305, 0.54756695],\n",
       "       [0.57270215, 0.42729785],\n",
       "       [0.54192628, 0.45807372],\n",
       "       [0.84396239, 0.15603761],\n",
       "       [0.65259213, 0.34740787],\n",
       "       [0.63469351, 0.36530649],\n",
       "       [0.82748063, 0.17251937],\n",
       "       [0.92145671, 0.07854329],\n",
       "       [0.66254462, 0.33745538],\n",
       "       [0.6481951 , 0.3518049 ],\n",
       "       [0.82191924, 0.17808076],\n",
       "       [0.62683205, 0.37316795],\n",
       "       [0.66378183, 0.33621817],\n",
       "       [0.58380086, 0.41619914],\n",
       "       [0.70426062, 0.29573938],\n",
       "       [0.83899619, 0.16100381],\n",
       "       [0.65934376, 0.34065624],\n",
       "       [0.60471132, 0.39528868],\n",
       "       [0.73092149, 0.26907851],\n",
       "       [0.6319221 , 0.3680779 ],\n",
       "       [0.7590183 , 0.2409817 ],\n",
       "       [0.60707963, 0.39292037],\n",
       "       [0.70339272, 0.29660728],\n",
       "       [0.7025559 , 0.2974441 ],\n",
       "       [0.89206981, 0.10793019],\n",
       "       [0.65537142, 0.34462858],\n",
       "       [0.8002842 , 0.1997158 ],\n",
       "       [0.69327323, 0.30672677],\n",
       "       [0.60933551, 0.39066449],\n",
       "       [0.63671984, 0.36328016],\n",
       "       [0.88400226, 0.11599774],\n",
       "       [0.60785286, 0.39214714],\n",
       "       [0.56069589, 0.43930411],\n",
       "       [0.64095576, 0.35904424],\n",
       "       [0.65067536, 0.34932464],\n",
       "       [0.80876737, 0.19123263],\n",
       "       [0.70506584, 0.29493416],\n",
       "       [0.67855458, 0.32144542],\n",
       "       [0.81391467, 0.18608533],\n",
       "       [0.7107203 , 0.2892797 ],\n",
       "       [0.65656047, 0.34343953],\n",
       "       [0.66777271, 0.33222729],\n",
       "       [0.61705509, 0.38294491],\n",
       "       [0.64910226, 0.35089774],\n",
       "       [0.78089819, 0.21910181],\n",
       "       [0.65354978, 0.34645022],\n",
       "       [0.90185562, 0.09814438],\n",
       "       [0.64898552, 0.35101448],\n",
       "       [0.78270556, 0.21729444],\n",
       "       [0.53618742, 0.46381258],\n",
       "       [0.64636805, 0.35363195],\n",
       "       [0.72114485, 0.27885515],\n",
       "       [0.64233875, 0.35766125],\n",
       "       [0.6625975 , 0.3374025 ],\n",
       "       [0.67321736, 0.32678264],\n",
       "       [0.75729839, 0.24270161],\n",
       "       [0.7261152 , 0.2738848 ],\n",
       "       [0.71398622, 0.28601378],\n",
       "       [0.82221399, 0.17778601],\n",
       "       [0.90840789, 0.09159211],\n",
       "       [0.66395537, 0.33604463],\n",
       "       [0.63877989, 0.36122011],\n",
       "       [0.678412  , 0.321588  ],\n",
       "       [0.83900922, 0.16099078],\n",
       "       [0.6837124 , 0.3162876 ],\n",
       "       [0.67514429, 0.32485571],\n",
       "       [0.77462308, 0.22537692],\n",
       "       [0.71475558, 0.28524442],\n",
       "       [0.73211254, 0.26788746],\n",
       "       [0.49549496, 0.50450504],\n",
       "       [0.70955542, 0.29044458],\n",
       "       [0.66947627, 0.33052373],\n",
       "       [0.63943372, 0.36056628],\n",
       "       [0.84595634, 0.15404366],\n",
       "       [0.87746525, 0.12253475],\n",
       "       [0.67907303, 0.32092697],\n",
       "       [0.7889293 , 0.2110707 ],\n",
       "       [0.94729967, 0.05270033],\n",
       "       [0.25286369, 0.74713631],\n",
       "       [0.4003572 , 0.5996428 ],\n",
       "       [0.58942402, 0.41057598],\n",
       "       [0.45899319, 0.54100681],\n",
       "       [0.56843912, 0.43156088],\n",
       "       [0.85760754, 0.14239246],\n",
       "       [0.86188349, 0.13811651],\n",
       "       [0.6799315 , 0.3200685 ],\n",
       "       [0.91087382, 0.08912618],\n",
       "       [0.66443467, 0.33556533],\n",
       "       [0.71668952, 0.28331048],\n",
       "       [0.70602885, 0.29397115],\n",
       "       [0.9520663 , 0.0479337 ],\n",
       "       [0.56803146, 0.43196854],\n",
       "       [0.62261711, 0.37738289],\n",
       "       [0.74567483, 0.25432517],\n",
       "       [0.72074816, 0.27925184],\n",
       "       [0.60865665, 0.39134335],\n",
       "       [0.60484726, 0.39515274],\n",
       "       [0.79754189, 0.20245811],\n",
       "       [0.59387372, 0.40612628],\n",
       "       [0.5661581 , 0.4338419 ],\n",
       "       [0.72877703, 0.27122297],\n",
       "       [0.88593971, 0.11406029],\n",
       "       [0.69594135, 0.30405865],\n",
       "       [0.63685966, 0.36314034],\n",
       "       [0.65331989, 0.34668011],\n",
       "       [0.72006771, 0.27993229],\n",
       "       [0.82176497, 0.17823503],\n",
       "       [0.27444046, 0.72555954],\n",
       "       [0.66056359, 0.33943641],\n",
       "       [0.56548185, 0.43451815],\n",
       "       [0.70599458, 0.29400542],\n",
       "       [0.41811687, 0.58188313],\n",
       "       [0.65667787, 0.34332213],\n",
       "       [0.84441194, 0.15558806],\n",
       "       [0.93047837, 0.06952163],\n",
       "       [0.71658868, 0.28341132],\n",
       "       [0.78661652, 0.21338348],\n",
       "       [0.6562995 , 0.3437005 ],\n",
       "       [0.95921953, 0.04078047],\n",
       "       [0.71251477, 0.28748523],\n",
       "       [0.8229058 , 0.1770942 ]])"
      ]
     },
     "execution_count": 414,
     "metadata": {},
     "output_type": "execute_result"
    }
   ],
   "source": [
    "prediction"
   ]
  },
  {
   "cell_type": "code",
   "execution_count": 415,
   "id": "1f252376",
   "metadata": {},
   "outputs": [
    {
     "data": {
      "text/plain": [
       "array([0.09755844, 0.23510657, 0.40638574, 0.18107249, 0.16144725,\n",
       "       0.1650701 , 0.73742568, 0.64498949, 0.05471854, 0.29071393,\n",
       "       0.09911878, 0.29660211, 0.42117378, 0.30143019, 0.41853458,\n",
       "       0.36377527, 0.26274881, 0.38240984, 0.46170614, 0.25384262,\n",
       "       0.27240099, 0.35924544, 0.27894363, 0.4058592 , 0.37612593,\n",
       "       0.30960449, 0.32095424, 0.370789  , 0.64517343, 0.10413801,\n",
       "       0.08887688, 0.31525979, 0.26564595, 0.54756695, 0.42729785,\n",
       "       0.45807372, 0.15603761, 0.34740787, 0.36530649, 0.17251937,\n",
       "       0.07854329, 0.33745538, 0.3518049 , 0.17808076, 0.37316795,\n",
       "       0.33621817, 0.41619914, 0.29573938, 0.16100381, 0.34065624,\n",
       "       0.39528868, 0.26907851, 0.3680779 , 0.2409817 , 0.39292037,\n",
       "       0.29660728, 0.2974441 , 0.10793019, 0.34462858, 0.1997158 ,\n",
       "       0.30672677, 0.39066449, 0.36328016, 0.11599774, 0.39214714,\n",
       "       0.43930411, 0.35904424, 0.34932464, 0.19123263, 0.29493416,\n",
       "       0.32144542, 0.18608533, 0.2892797 , 0.34343953, 0.33222729,\n",
       "       0.38294491, 0.35089774, 0.21910181, 0.34645022, 0.09814438,\n",
       "       0.35101448, 0.21729444, 0.46381258, 0.35363195, 0.27885515,\n",
       "       0.35766125, 0.3374025 , 0.32678264, 0.24270161, 0.2738848 ,\n",
       "       0.28601378, 0.17778601, 0.09159211, 0.33604463, 0.36122011,\n",
       "       0.321588  , 0.16099078, 0.3162876 , 0.32485571, 0.22537692,\n",
       "       0.28524442, 0.26788746, 0.50450504, 0.29044458, 0.33052373,\n",
       "       0.36056628, 0.15404366, 0.12253475, 0.32092697, 0.2110707 ,\n",
       "       0.05270033, 0.74713631, 0.5996428 , 0.41057598, 0.54100681,\n",
       "       0.43156088, 0.14239246, 0.13811651, 0.3200685 , 0.08912618,\n",
       "       0.33556533, 0.28331048, 0.29397115, 0.0479337 , 0.43196854,\n",
       "       0.37738289, 0.25432517, 0.27925184, 0.39134335, 0.39515274,\n",
       "       0.20245811, 0.40612628, 0.4338419 , 0.27122297, 0.11406029,\n",
       "       0.30405865, 0.36314034, 0.34668011, 0.27993229, 0.17823503,\n",
       "       0.72555954, 0.33943641, 0.43451815, 0.29400542, 0.58188313,\n",
       "       0.34332213, 0.15558806, 0.06952163, 0.28341132, 0.21338348,\n",
       "       0.3437005 , 0.04078047, 0.28748523, 0.1770942 ])"
      ]
     },
     "execution_count": 415,
     "metadata": {},
     "output_type": "execute_result"
    }
   ],
   "source": [
    "proba_predict"
   ]
  },
  {
   "cell_type": "code",
   "execution_count": 416,
   "id": "e03e0199",
   "metadata": {},
   "outputs": [
    {
     "data": {
      "image/png": "[encoded data removed]",
      "text/plain": [
       "<Figure size 640x480 with 1 Axes>"
      ]
     },
     "metadata": {},
     "output_type": "display_data"
    }
   ],
   "source": [
    "import sklearn.metrics as metrics\n",
    "\n",
    "fpr, tpr, threshold = metrics.roc_curve(test_y, proba_predict)\n",
    "roc_auc = metrics.auc(fpr, tpr)\n",
    "\n",
    "plt.title('Receiver Operating Characteristic')\n",
    "plt.plot(fpr, tpr, 'b', label = 'AUC = %0.2f' % roc_auc)\n",
    "plt.legend(loc = 'lower right')\n",
    "plt.plot([0, 1], [0, 1],'r--')\n",
    "plt.xlim([0, 1])\n",
    "plt.ylim([0, 1])\n",
    "plt.ylabel('True Positive Rate')\n",
    "plt.xlabel('False Positive Rate')\n",
    "plt.show()"
   ]
  }
 ],
 "metadata": {
  "kernelspec": {
   "display_name": "Python 3 (ipykernel)",
   "language": "python",
   "name": "python3"
  },
  "language_info": {
   "codemirror_mode": {
    "name": "ipython",
    "version": 3
   },
   "file_extension": ".py",
   "mimetype": "text/x-python",
   "name": "python",
   "nbconvert_exporter": "python",
   "pygments_lexer": "ipython3",
   "version": "3.9.13"
  }
 },
 "nbformat": 4,
 "nbformat_minor": 5
}
